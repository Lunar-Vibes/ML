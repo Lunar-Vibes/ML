{
 "cells": [
  {
   "cell_type": "markdown",
   "id": "a2166722-a26c-4859-a50d-5323b63792d9",
   "metadata": {},
   "source": [
    "# Data simulation and exploration"
   ]
  },
  {
   "cell_type": "markdown",
   "id": "f990ec93-308d-4fcd-9efb-25c3552f3643",
   "metadata": {},
   "source": [
    "## Data simulation\n",
    "* Create a simulated dataset representing a business scenerio. For example, simulate a dataset with features such as customer_id, age, income, purchase_history, and customer_satisfaction.\n",
    "\n",
    "* \n",
    "Use numpy or pandas to generate this dataset."
   ]
  },
  {
   "cell_type": "markdown",
   "id": "5303cc3e-0660-4284-a5df-10a4ae5ab10f",
   "metadata": {},
   "source": [
    "**Here we are creating total  1000 customers details (no_customers=1000)with features --**\n",
    "* **1. customer_id**  (unique for each customer Sequential or randomly generated integers)\n",
    "* **2. age  positive** int\n",
    "* **3. income**- log-normal distribution, where most customers have a moderate income, with some higher-income outliers internet is showing 91000 pln in poland\n",
    "* **4. purchase_history** -- round around as int \n",
    "* **5. customer_satisfaction** --- integer in range b/t 1 to 10\n"
   ]
  },
  {
   "cell_type": "markdown",
   "id": "0172e319-c899-44e0-84f9-897ead87cf8a",
   "metadata": {},
   "source": [
    "0.np.random.seed(00) # every time it will give the same sequence of random number (can put any numbeer in argument)\n",
    "\n",
    "* **1. np.arange**---->Numpy.arange is a function that produces an array of sequential numbers within a given interval. It differs from Python's builtin range() function in that it can handle floating-point numbers as well as arbitrary step sizes.\n",
    "\n",
    "* **2. age = np.random.normal(35, 10, n_customers).astype(int)**  # Ages around mean 35,std dev=10 \n",
    "A standard deviation of 10 indicates how spread out the numbers will be from the mean. In our case  approximately 68% of the generated values will fall within one standard deviation (25 and 45) of the mean(35-10, 35+10) 68,95,99 % the data falls within one standard deviation of the mean/two standard deviations /three standard deviations\n",
    "\n",
    "* **3. Log-normal distribution for income**\n",
    "    Expected Value=e^(11 +0.5*0.5/2)=e^11.125 ≈67846\n",
    "    So, with mean=10 and sigma=0.5, we expect most values to be centered around 24,730.\n",
    "\n",
    "* **4.  Purchase history** around 5000 with std dev of 1000\n",
    "* **5. customer_satisfaction**  --try and test method by applying the logic that higher the salary more satisfaction and also is effected by age and "
   ]
  },
  {
   "cell_type": "code",
   "execution_count": 4,
   "id": "a7cdd3eb-17d3-4698-87b2-a7f4f4f6547d",
   "metadata": {},
   "outputs": [
    {
     "name": "stdout",
     "output_type": "stream",
     "text": [
      "10\n",
      "1\n",
      "   customer_id  age  income  purchase_history  customer_satisfaction\n",
      "0            1   52   79061              3467                      6\n",
      "1            2   39   93548              3288                      4\n",
      "2            3   44   48476              5046                      5\n",
      "3            4   57   63092              4041                      6\n",
      "4            5   53   67105              4919                      6\n"
     ]
    }
   ],
   "source": [
    "import pandas as pd\n",
    "import numpy as np\n",
    "\n",
    "\n",
    "no_customers=1000\n",
    "np.random.seed(00)  #0\n",
    "\n",
    "\n",
    "customer_id=np.arange(1,no_customers+1,1)   #1\n",
    "#print(customer_id)\n",
    "\n",
    "age=np.random.normal(35,10,no_customers).astype(int)   #2\n",
    "age = np.clip(age, 15, 100)\n",
    "#print(age)\n",
    "\n",
    "income=np.random.lognormal(mean=11,sigma=0.5,size=no_customers).astype(int)  #3\n",
    "\n",
    "#print(income)\n",
    "#print(max(income),min(income))\n",
    "\n",
    "purchase_history = np.random.normal(5000, 1000, no_customers).astype(int) #4 \n",
    "\n",
    "\n",
    "# Calculate raw customer satisfaction\n",
    "raw_satisfaction = (age * 0.1 + purchase_history * 0.0005 + income * 0.00002)\n",
    "\n",
    "# Normalize to range [1, 10]\n",
    "min_satisfaction = np.min(raw_satisfaction)\n",
    "max_satisfaction = np.max(raw_satisfaction)\n",
    "customer_satisfaction = 1 + (9 * (raw_satisfaction - min_satisfaction) / (max_satisfaction - min_satisfaction))\n",
    "\n",
    "# Convert to integer values\n",
    "customer_satisfaction = customer_satisfaction.astype(int)\n",
    "#print(customer_satisfaction)\n",
    "\n",
    "#print(max(customer_satisfaction))\n",
    "#print(min(customer_satisfaction))\n",
    "\n",
    "\n",
    "data=pd.DataFrame({\"customer_id\":customer_id,\"age\":age,\"income\":income,\"purchase_history\":purchase_history,\"customer_satisfaction\":customer_satisfaction})\n",
    "#print(data)\n",
    "#print(type(data))\n",
    "\n",
    "print(data.head())"
   ]
  },
  {
   "cell_type": "code",
   "execution_count": 5,
   "id": "fe08501a-752a-4930-a962-e369870aec7f",
   "metadata": {},
   "outputs": [],
   "source": [
    "data.to_csv(\"simulated_data.csv\", index=False)"
   ]
  },
  {
   "cell_type": "code",
   "execution_count": null,
   "id": "65c0dd08-f95a-4295-9b17-cd72afeb8a82",
   "metadata": {},
   "outputs": [],
   "source": []
  },
  {
   "cell_type": "code",
   "execution_count": null,
   "id": "df89344b-13a6-4f2f-ae44-5895cfb13e40",
   "metadata": {},
   "outputs": [],
   "source": []
  }
 ],
 "metadata": {
  "kernelspec": {
   "display_name": "Python 3 (ipykernel)",
   "language": "python",
   "name": "python3"
  },
  "language_info": {
   "codemirror_mode": {
    "name": "ipython",
    "version": 3
   },
   "file_extension": ".py",
   "mimetype": "text/x-python",
   "name": "python",
   "nbconvert_exporter": "python",
   "pygments_lexer": "ipython3",
   "version": "3.12.3"
  }
 },
 "nbformat": 4,
 "nbformat_minor": 5
}
