{
  "nbformat": 4,
  "nbformat_minor": 0,
  "metadata": {
    "colab": {
      "provenance": []
    },
    "kernelspec": {
      "name": "python3",
      "display_name": "Python 3"
    },
    "language_info": {
      "name": "python"
    }
  },
  "cells": [
    {
      "cell_type": "code",
      "execution_count": 10,
      "metadata": {
        "colab": {
          "base_uri": "https://localhost:8080/"
        },
        "id": "BE68R4bvn3jG",
        "outputId": "c7360000-b8ab-49af-941b-ee320763255b"
      },
      "outputs": [
        {
          "output_type": "stream",
          "name": "stdout",
          "text": [
            "Data from 'simulated_data.csv' has been successfully saved to the database 'customerStatisfaction.db'!\n"
          ]
        }
      ],
      "source": [
        "import sqlite3\n",
        "import pandas as pd\n",
        "\n",
        "csv_path = 'simulated_data.csv'\n",
        "# read the csv file from its path as pandas DataFrame\n",
        "data = pd.read_csv(csv_path)\n",
        "\n",
        "db_name = 'customerStatisfaction.db'\n",
        "# establish the connection with database in sqlite3\n",
        "conn = sqlite3.connect(db_name)\n",
        "# create a cursor object before executing SQL commands\n",
        "curs = conn.cursor()\n",
        "# Save the DataFrame into an SQLite table\n",
        "# if table exists, it will be replaced\n",
        "data.to_sql('simulated_data_table', conn, if_exists='replace', index=False)\n",
        "# close the database connection\n",
        "conn.close()\n",
        "\n",
        "print(f\"Data from '{csv_path}' has been successfully saved to the database '{db_name}'!\")\n"
      ]
    },
    {
      "cell_type": "code",
      "source": [
        "# Reconnect to the SQLite database\n",
        "conn = sqlite3.connect(db_name)\n",
        "\n",
        "# Query the data\n",
        "# Fetch the first 5 rows\n",
        "query = \"SELECT * FROM simulated_data_table LIMIT 5;\"\n",
        "# Execute the SQL query and load the results into a pandas DataFrame\n",
        "result = pd.read_sql(query, conn)\n",
        "\n",
        "conn.close()\n",
        "print(result)"
      ],
      "metadata": {
        "id": "yZPqikebpNTB",
        "colab": {
          "base_uri": "https://localhost:8080/"
        },
        "outputId": "e5f17f05-5291-4eca-d2c8-b018fb58fb68"
      },
      "execution_count": 12,
      "outputs": [
        {
          "output_type": "stream",
          "name": "stdout",
          "text": [
            "   customer_id  age  income  purchase_history  customer_satisfaction\n",
            "0            1   52   79061              3467                      8\n",
            "1            2   39   93548              3288                      7\n",
            "2            3   44   48476              5046                      7\n",
            "3            4   57   63092              4041                      8\n",
            "4            5   53   67105              4919                      9\n"
          ]
        }
      ]
    },
    {
      "cell_type": "code",
      "source": [
        "conn = sqlite3.connect('customerStatisfaction.db')\n",
        "c = conn.cursor()\n",
        "\n",
        "print(\"\\nFirst Customer's Age and Satisfaction:\")\n",
        "c.execute(\"SELECT age, customer_satisfaction FROM simulated_data_table ORDER BY age\")\n",
        "# Fetch the first result\n",
        "print(c.fetchone())\n",
        "\n",
        "conn.close()"
      ],
      "metadata": {
        "id": "kBMSQzmPohGc",
        "colab": {
          "base_uri": "https://localhost:8080/"
        },
        "outputId": "748b8905-8730-485a-b235-955e0d44961f"
      },
      "execution_count": 13,
      "outputs": [
        {
          "output_type": "stream",
          "name": "stdout",
          "text": [
            "\n",
            "First Customer's Age and Satisfaction:\n",
            "(4, 5)\n"
          ]
        }
      ]
    },
    {
      "cell_type": "code",
      "source": [
        "# Fetch all results and iterate through them\n",
        "conn = sqlite3.connect('customerStatisfaction.db')\n",
        "c = conn.cursor()\n",
        "\n",
        "# Extract all results from the table\n",
        "c.execute(\"SELECT * FROM simulated_data_table ORDER BY age LIMIT 10\")\n",
        "listOfResults = c.fetchall()\n",
        "\n",
        "# Print the first 10 results by looping through the extracted items\n",
        "print(\"\\nFirst 10 results in the Table:\")\n",
        "for item in listOfResults:\n",
        "    print(item)\n",
        "\n",
        "conn.close()"
      ],
      "metadata": {
        "colab": {
          "base_uri": "https://localhost:8080/"
        },
        "id": "6rkkJf7wENeg",
        "outputId": "b4fe7341-243e-4f6f-ea21-a982a2d852f2"
      },
      "execution_count": 14,
      "outputs": [
        {
          "output_type": "stream",
          "name": "stdout",
          "text": [
            "\n",
            "First 10 results in the Table:\n",
            "(590, 4, 79145, 6959, 5)\n",
            "(686, 6, 57365, 5731, 4)\n",
            "(272, 7, 120895, 4915, 5)\n",
            "(428, 7, 97663, 5792, 5)\n",
            "(335, 8, 44076, 5246, 4)\n",
            "(486, 8, 61385, 4290, 4)\n",
            "(21, 9, 99492, 3086, 4)\n",
            "(548, 9, 57341, 5891, 4)\n",
            "(851, 9, 61933, 5677, 4)\n",
            "(529, 11, 26168, 4955, 4)\n"
          ]
        }
      ]
    },
    {
      "cell_type": "code",
      "source": [
        "#Aggregate Query to find out the average customer satisfaction by Age group\n",
        "conn = sqlite3.connect('customerStatisfaction.db')\n",
        "c = conn.cursor()\n",
        "\n",
        "# SQL query to calculate the average customer satisfaction by age group (Rounded off to 4 d.p.)\n",
        "print(\"\\nAverage Customer Satisfaction by Age Group:\")\n",
        "query = \"\"\"\n",
        "SELECT\n",
        "    CASE\n",
        "        WHEN age BETWEEN 18 AND 24 THEN '18-24'\n",
        "        WHEN age BETWEEN 25 AND 34 THEN '25-34'\n",
        "        WHEN age BETWEEN 35 AND 44 THEN '35-44'\n",
        "        WHEN age BETWEEN 45 AND 54 THEN '45-54'\n",
        "        ELSE '55+'\n",
        "    END AS age_group,\n",
        "    ROUND(AVG(customer_satisfaction), 4) AS avg_satisfaction\n",
        "FROM simulated_data_table\n",
        "GROUP BY age_group\n",
        "ORDER BY age_group;\n",
        "\"\"\"\n",
        "\n",
        "c.execute(query)\n",
        "for row in c.fetchall():\n",
        "    print(row)\n",
        "\n",
        "conn.close()"
      ],
      "metadata": {
        "colab": {
          "base_uri": "https://localhost:8080/"
        },
        "id": "EywXhq-mFxkr",
        "outputId": "a7c56712-d4aa-4a8f-d6db-b323f048232c"
      },
      "execution_count": 15,
      "outputs": [
        {
          "output_type": "stream",
          "name": "stdout",
          "text": [
            "\n",
            "Average Customer Satisfaction by Age Group:\n",
            "('18-24', 5.5254)\n",
            "('25-34', 6.3956)\n",
            "('35-44', 7.209)\n",
            "('45-54', 8.1271)\n",
            "('55+', 6.1231)\n"
          ]
        }
      ]
    },
    {
      "cell_type": "code",
      "source": [
        "# Filtering Data with high income customers\n",
        "conn = sqlite3.connect('customerStatisfaction.db')\n",
        "c = conn.cursor()\n",
        "\n",
        "# Query to find customers with income above a certain threshold\n",
        "print(\"\\nHigh Income Customers (Income > 50000):\")\n",
        "c.execute(\"SELECT customer_id, income FROM simulated_data_table WHERE income > 50000 ORDER BY income DESC LIMIT 5\")\n",
        "for row in c.fetchall():\n",
        "    print(row)\n",
        "\n",
        "conn.close()"
      ],
      "metadata": {
        "colab": {
          "base_uri": "https://localhost:8080/"
        },
        "id": "D3lTuiUVGS3e",
        "outputId": "0ae2320a-f830-40c6-feff-f5a7808423c2"
      },
      "execution_count": 16,
      "outputs": [
        {
          "output_type": "stream",
          "name": "stdout",
          "text": [
            "\n",
            "High Income Customers (Income > 50000):\n",
            "(55, 292285)\n",
            "(489, 228727)\n",
            "(352, 224463)\n",
            "(817, 221967)\n",
            "(588, 213227)\n"
          ]
        }
      ]
    },
    {
      "cell_type": "code",
      "source": [
        "# Combining Filters and Aggregates by querying satisfaction by income Bracket\n",
        "conn = sqlite3.connect('customerStatisfaction.db')\n",
        "c = conn.cursor()\n",
        "\n",
        "# Query to calculate average satisfaction for different income brackets\n",
        "print(\"\\nAverage Customer Satisfaction by Income Bracket:\")\n",
        "query = \"\"\"\n",
        "SELECT\n",
        "    CASE\n",
        "        WHEN income BETWEEN 0 AND 20000 THEN '0-20K'\n",
        "        WHEN income BETWEEN 20001 AND 40000 THEN '20K-40K'\n",
        "        WHEN income BETWEEN 40001 AND 60000 THEN '40K-60K'\n",
        "        ELSE '60K+'\n",
        "    END AS income_bracket,\n",
        "    ROUND(AVG(customer_satisfaction), 4) AS avg_satisfaction\n",
        "FROM simulated_data_table\n",
        "GROUP BY income_bracket\n",
        "ORDER BY income_bracket;\n",
        "\"\"\"\n",
        "c.execute(query)\n",
        "for row in c.fetchall():\n",
        "    print(row)\n",
        "\n",
        "# Close the connection\n",
        "conn.close()"
      ],
      "metadata": {
        "colab": {
          "base_uri": "https://localhost:8080/"
        },
        "id": "a5qupiFyHaDu",
        "outputId": "bae9d517-6a4f-4388-cb48-57e515c76ba2"
      },
      "execution_count": 17,
      "outputs": [
        {
          "output_type": "stream",
          "name": "stdout",
          "text": [
            "\n",
            "Average Customer Satisfaction by Income Bracket:\n",
            "('0-20K', 6.1667)\n",
            "('20K-40K', 6.0846)\n",
            "('40K-60K', 6.3808)\n",
            "('60K+', 7.2246)\n"
          ]
        }
      ]
    },
    {
      "cell_type": "code",
      "source": [
        "# To add queried data to the table\n",
        "conn = sqlite3.connect('customerStatisfaction.db')\n",
        "c = conn.cursor()\n",
        "\n",
        "# Add news columns to the original table\n",
        "c.execute(\"ALTER TABLE simulated_data_table ADD COLUMN income_bracket TEXT\")\n",
        "c.execute(\"ALTER TABLE simulated_data_table ADD COLUMN avg_satisfaction_income_bracket REAL\")\n",
        "c.execute(\"ALTER TABLE simulated_data_table ADD COLUMN avg_customer_satisfaction REAL\")\n",
        "c.execute(\"ALTER TABLE simulated_data_table ADD COLUMN is_high_income INTEGER\")\n",
        "print(\"New columns added to the table successfully.\")"
      ],
      "metadata": {
        "colab": {
          "base_uri": "https://localhost:8080/"
        },
        "id": "l6SVdpDfHpep",
        "outputId": "6b1e2c52-8a63-477d-bb00-3d79cb85ab40"
      },
      "execution_count": 18,
      "outputs": [
        {
          "output_type": "stream",
          "name": "stdout",
          "text": [
            "New columns added to the table successfully.\n"
          ]
        }
      ]
    },
    {
      "cell_type": "code",
      "source": [
        "# update the new columns in the table\n",
        "# update the income_bracket column based on income ranges\n",
        "c.execute(\"\"\"\n",
        "UPDATE simulated_data_table\n",
        "SET income_bracket = CASE\n",
        "    WHEN income BETWEEN 0 AND 20000 THEN '0-20K'\n",
        "    WHEN income BETWEEN 20001 AND 40000 THEN '20K-40K'\n",
        "    WHEN income BETWEEN 40001 AND 60000 THEN '40K-60K'\n",
        "    ELSE '60K+'\n",
        "END;\n",
        "\"\"\")\n",
        "print(\"Income bracket column populated.\")\n",
        "\n",
        "# Update the avg_satisfaction_income_bracket column with the average satisfaction for each income bracket\n",
        "c.execute(\"\"\"\n",
        "UPDATE simulated_data_table\n",
        "SET avg_satisfaction_income_bracket = (\n",
        "    SELECT ROUND(AVG(customer_satisfaction), 4)\n",
        "    FROM simulated_data_table AS sub\n",
        "    WHERE sub.income_bracket = simulated_data_table.income_bracket\n",
        ");\n",
        "\"\"\")\n",
        "print(\"Average customer satisfaction by income bracket column populated.\")\n",
        "\n",
        "# Update the avg_customer_satisfaction column with the overall average satisfaction\n",
        "c.execute(\"\"\"\n",
        "UPDATE simulated_data_table\n",
        "SET avg_customer_satisfaction = (\n",
        "    SELECT ROUND(AVG(customer_satisfaction), 4)\n",
        "    FROM simulated_data_table\n",
        ");\n",
        "\"\"\")\n",
        "print(\"Overall average customer satisfaction column populated.\")\n",
        "\n",
        "# Update the is_high_income column to indicate if the income is greater than 50,000\n",
        "c.execute(\"\"\"\n",
        "UPDATE simulated_data_table\n",
        "SET is_high_income = CASE\n",
        "    WHEN income > 50000 THEN 1\n",
        "    ELSE 0\n",
        "END;\n",
        "\"\"\")\n",
        "print(\"High-income indicator column populated.\")\n",
        "\n",
        "# save the changes to databse\n",
        "conn.commit()\n",
        "conn.close()"
      ],
      "metadata": {
        "colab": {
          "base_uri": "https://localhost:8080/"
        },
        "id": "i9b4xxQbYhI8",
        "outputId": "7835e08f-2057-4293-d0d6-e5c4ff0d7489"
      },
      "execution_count": 19,
      "outputs": [
        {
          "output_type": "stream",
          "name": "stdout",
          "text": [
            "Income bracket column populated.\n",
            "Average customer satisfaction by income bracket column populated.\n",
            "Overall average customer satisfaction column populated.\n",
            "High-income indicator column populated.\n"
          ]
        }
      ]
    },
    {
      "cell_type": "code",
      "source": [
        "#View the updated table\n",
        "conn = sqlite3.connect('customerStatisfaction.db')\n",
        "c = conn.cursor()\n",
        "\n",
        "# Fetch and display 10 rows to verify the updated table\n",
        "print(\"\\nUpdated Table (First 10 Rows):\")\n",
        "for row in c.execute(\"SELECT customer_id, age, income, income_bracket, avg_satisfaction_income_bracket, avg_customer_satisfaction, is_high_income FROM simulated_data_table LIMIT 10\"):\n",
        "    print(row)\n",
        "\n",
        "conn.close()"
      ],
      "metadata": {
        "colab": {
          "base_uri": "https://localhost:8080/"
        },
        "id": "2Vf0VXfAY8vr",
        "outputId": "fc99055d-884c-432a-e0e5-16378363b266"
      },
      "execution_count": 20,
      "outputs": [
        {
          "output_type": "stream",
          "name": "stdout",
          "text": [
            "\n",
            "Updated Table (First 10 Rows):\n",
            "(1, 52, 79061, '60K+', 7.2246, 6.752, 1)\n",
            "(2, 39, 93548, '60K+', 7.2246, 6.752, 1)\n",
            "(3, 44, 48476, '40K-60K', 6.3808, 6.752, 0)\n",
            "(4, 57, 63092, '60K+', 7.2246, 6.752, 1)\n",
            "(5, 53, 67105, '60K+', 7.2246, 6.752, 1)\n",
            "(6, 25, 66220, '60K+', 7.2246, 6.752, 1)\n",
            "(7, 44, 78463, '60K+', 7.2246, 6.752, 1)\n",
            "(8, 33, 24123, '20K-40K', 6.0846, 6.752, 0)\n",
            "(9, 33, 58415, '40K-60K', 6.3808, 6.752, 1)\n",
            "(10, 39, 67475, '60K+', 7.2246, 6.752, 1)\n"
          ]
        }
      ]
    },
    {
      "cell_type": "code",
      "source": [
        "# Preprocess data to training and testing sets before model training\n",
        "import pandas as pd\n",
        "from sklearn.model_selection import train_test_split\n",
        "#for data preprocessing\n",
        "from sklearn.preprocessing import StandardScaler, LabelEncoder\n",
        "\n",
        "# Load data from SQLite database\n",
        "conn = sqlite3.connect('customerStatisfaction.db')\n",
        "df = pd.read_sql_query(\"SELECT * FROM simulated_data_table\", conn)\n",
        "conn.close()\n",
        "\n",
        "# Feature engineering\n",
        "# Encode the 'income_bracket' categorical column into numeric values using LabelEncoder\n",
        "# machine learning models provide better results with numeric data\n",
        "df['income_bracket_encoded'] = LabelEncoder().fit_transform(df['income_bracket'])\n",
        "\n",
        "# Features X and target y\n",
        "# X is the columns used to predict target variable\n",
        "X = df[['age', 'income', 'purchase_history', 'income_bracket_encoded']]  # Features\n",
        "# y is the predicted variable\n",
        "y = df['customer_satisfaction']\n",
        "\n",
        "# Train-test split into 20% testing set and 80% for training set\n",
        "# random_state is to ensure reproducibility of the split\n",
        "X_train, X_test, y_train, y_test = train_test_split(X, y, test_size=0.2, random_state=42)\n",
        "\n",
        "\n",
        "# Standardization ensures that features have mean 0 and standard deviation 1, improving model performance\n",
        "# fit_transform is used on the training data to learn the scaling parameters and apply them on test data too\n",
        "scaler = StandardScaler()\n",
        "X_train_scaled = scaler.fit_transform(X_train)\n",
        "X_test_scaled = scaler.transform(X_test)\n",
        "\n",
        "# X_train_scaled and X_test_scaled are the processed input features ready for model training and evaluation\n",
        "# y_train and y_test remain as the target variables corresponding to the training and testing sets\n"
      ],
      "metadata": {
        "id": "0HSn1nCUZCgT"
      },
      "execution_count": null,
      "outputs": []
    },
    {
      "cell_type": "code",
      "source": [
        "print(X_train_scaled)\n",
        "print(X_test_scaled)"
      ],
      "metadata": {
        "colab": {
          "base_uri": "https://localhost:8080/"
        },
        "id": "QqrV9ENAf7G1",
        "outputId": "192ae1c2-99f3-4cc0-dfc8-88d000ad5c6c"
      },
      "execution_count": null,
      "outputs": [
        {
          "output_type": "stream",
          "name": "stdout",
          "text": [
            "[[ 1.51613612 -0.63873732 -0.04765072 -0.38859446]\n",
            " [-0.51366707 -1.01423519  0.76486413 -1.64212499]\n",
            " [ 1.11017548  0.45994605 -0.13888423  0.86493606]\n",
            " ...\n",
            " [ 1.21166564 -0.78289903  0.1777497  -0.38859446]\n",
            " [ 0.39974437  0.82965012 -2.08269453  0.86493606]\n",
            " [-1.22409819  1.90637646  0.514777    0.86493606]]\n",
            "[[-9.19627710e-01 -5.53315861e-01  6.16743853e-01 -3.88594463e-01]\n",
            " [-1.22409819e+00 -6.09887150e-01 -8.61238910e-01 -3.88594463e-01]\n",
            " [-1.12260803e+00 -9.23019932e-01  1.89723291e+00 -1.64212499e+00]\n",
            " [-9.19627710e-01  7.55346300e-02 -1.44250903e-01  8.64936063e-01]\n",
            " [ 9.07195165e-01 -1.16211088e+00 -1.09904172e-01 -1.64212499e+00]\n",
            " [ 1.51613612e+00  3.25665944e+00 -8.64458916e-01  8.64936063e-01]\n",
            " [ 1.96764047e-01 -3.88355883e-01  7.21930716e-01 -3.88594463e-01]\n",
            " [-1.93452931e+00 -1.08682115e+00  6.51090584e-01 -1.64212499e+00]\n",
            " [ 9.52738874e-02 -3.25723385e-01 -1.11883939e+00 -3.88594463e-01]\n",
            " [ 6.02724686e-01 -2.81298804e-02  5.52343733e-01  8.64936063e-01]\n",
            " [ 7.04214846e-01 -4.62575988e-01  2.11619332e+00 -3.88594463e-01]\n",
            " [-8.18137550e-01  3.98739716e-01 -5.73107405e-02  8.64936063e-01]\n",
            " [-9.19627710e-01 -8.59050401e-01  1.71309687e-01 -1.64212499e+00]\n",
            " [ 1.41464596e+00  8.02588080e-02 -3.32084588e-01  8.64936063e-01]\n",
            " [-7.16647390e-01  7.22331055e-01 -1.76284060e+00  8.64936063e-01]\n",
            " [-4.12176911e-01  7.93698826e-01 -2.35317503e+00  8.64936063e-01]\n",
            " [-1.07706432e-01 -3.06321572e-01 -1.09844602e+00 -3.88594463e-01]\n",
            " [-2.09196592e-01  2.18198322e+00 -7.35658675e-01  8.64936063e-01]\n",
            " [ 2.98254207e-01 -2.40777315e-01 -4.90938218e-01 -3.88594463e-01]\n",
            " [-1.07706432e-01 -1.08123533e+00 -3.15984557e-01 -1.64212499e+00]\n",
            " [-6.15157231e-01  1.14931950e+00 -1.09904172e-01  8.64936063e-01]\n",
            " [-1.02111787e+00  2.41260630e+00  9.44111132e-01  8.64936063e-01]\n",
            " [-9.19627710e-01 -2.22118075e-03  6.82217309e-01  8.64936063e-01]\n",
            " [ 1.51613612e+00  1.51334861e+00  3.39227634e-02  8.64936063e-01]\n",
            " [ 1.00868533e+00  3.15249525e-01 -8.36552197e-01  8.64936063e-01]\n",
            " [ 8.05705006e-01 -1.20486618e+00  9.11911072e-01 -1.64212499e+00]\n",
            " [-1.32558835e+00 -2.59495757e-01  4.77210259e-01 -3.88594463e-01]\n",
            " [-4.12176911e-01  1.81160120e-01  2.18703346e+00  8.64936063e-01]\n",
            " [ 3.99744367e-01 -3.54692401e-01 -3.34231258e-01 -3.88594463e-01]\n",
            " [ 1.51613612e+00  3.32859174e+00 -2.54804443e-01  8.64936063e-01]\n",
            " [-3.10686751e-01  2.50834318e-01  1.11155144e+00  8.64936063e-01]\n",
            " [-1.02111787e+00 -9.70612831e-02 -3.87898025e-01  8.64936063e-01]\n",
            " [-3.10686751e-01 -9.94803668e-01  2.23426021e+00 -1.64212499e+00]\n",
            " [-6.21627228e-03 -3.30952663e-01 -9.70719115e-01 -3.88594463e-01]\n",
            " [ 2.98254207e-01  6.04315740e-01  1.68256585e+00  8.64936063e-01]\n",
            " [ 2.22656724e+00 -1.36058578e+00 -1.10381270e+00 -1.64212499e+00]\n",
            " [-1.63005883e+00 -5.47967735e-01  1.50916315e-01 -3.88594463e-01]\n",
            " [-5.13667071e-01 -9.14819472e-01  3.38750000e-01 -1.64212499e+00]\n",
            " [-6.15157231e-01 -3.34280386e-01 -4.06144726e-01 -3.88594463e-01]\n",
            " [-3.10686751e-01 -7.32626643e-01  7.01537345e-01 -3.88594463e-01]\n",
            " [-7.16647390e-01  1.14281261e+00  6.29623877e-01  8.64936063e-01]\n",
            " [ 9.52738874e-02  5.53597677e-01  5.65223757e-01  8.64936063e-01]\n",
            " [-1.12260803e+00 -4.45907662e-01 -4.17951415e-01 -3.88594463e-01]\n",
            " [ 2.12507708e+00 -5.05658115e-01  2.89376574e-01 -3.88594463e-01]\n",
            " [ 3.99744367e-01 -1.34302610e+00 -7.74298748e-01 -1.64212499e+00]\n",
            " [-1.07706432e-01 -1.14918624e+00  1.81243942e+00 -1.64212499e+00]\n",
            " [ 9.52738874e-02 -6.22782076e-01  6.78997303e-01 -3.88594463e-01]\n",
            " [ 5.01234526e-01 -3.60664475e-01  6.07561469e-02 -3.88594463e-01]\n",
            " [ 9.52738874e-02  1.23307710e+00  6.34990554e-01  8.64936063e-01]\n",
            " [-3.10686751e-01 -3.54484418e-01 -1.14674611e+00 -3.88594463e-01]\n",
            " [ 5.01234526e-01 -9.38499785e-01  1.24249836e+00 -1.64212499e+00]\n",
            " [-1.73154899e+00  3.24044222e-01 -1.44250903e-01  8.64936063e-01]\n",
            " [-5.13667071e-01 -1.13020039e+00 -5.92905075e-01 -1.64212499e+00]\n",
            " [-1.07706432e-01 -9.53860792e-01 -1.28413303e+00 -1.64212499e+00]\n",
            " [-7.16647390e-01 -9.83513180e-01  1.35627190e+00 -1.64212499e+00]\n",
            " [ 1.96764047e-01 -7.90772659e-01  8.73270999e-01 -3.88594463e-01]\n",
            " [ 3.99744367e-01  1.97631806e+00 -7.60345388e-01  8.64936063e-01]\n",
            " [ 1.96764047e-01 -9.32349440e-01  4.73990253e-01 -1.64212499e+00]\n",
            " [-3.10686751e-01 -5.60506119e-01 -9.61059097e-01 -3.88594463e-01]\n",
            " [-6.21627228e-03 -8.03281331e-01  9.93962192e-02 -3.88594463e-01]\n",
            " [ 9.52738874e-02 -3.79347782e-02  1.29079845e+00  8.64936063e-01]\n",
            " [-6.21627228e-03  6.67316123e+00  1.68089681e-01  8.64936063e-01]\n",
            " [-2.09196592e-01  7.46516470e-01  1.45287208e+00  8.64936063e-01]\n",
            " [-6.21627228e-03  4.10030204e-01  5.30877026e-01  8.64936063e-01]\n",
            " [-1.42707851e+00 -1.19087191e+00 -1.15270849e-01 -1.64212499e+00]\n",
            " [-1.52856867e+00  3.20932853e+00 -2.70844903e+00  8.64936063e-01]\n",
            " [ 5.01234526e-01 -1.22703119e+00  2.06896657e+00 -1.64212499e+00]\n",
            " [-1.07706432e-01  3.35720964e-01 -1.47948007e+00  8.64936063e-01]\n",
            " [ 8.05705006e-01 -9.49017767e-01  1.67075916e+00 -1.64212499e+00]\n",
            " [ 1.61762628e+00 -1.29756703e+00  7.16564040e-01 -1.64212499e+00]\n",
            " [-7.16647390e-01  3.01700939e-01  1.54136321e-01  8.64936063e-01]\n",
            " [ 1.31315580e+00  2.45872445e-01  1.59455235e+00  8.64936063e-01]\n",
            " [ 6.02724686e-01 -9.93466637e-01  1.08686473e+00 -1.64212499e+00]\n",
            " [-1.12260803e+00 -8.75896999e-01 -5.32798296e-01 -1.64212499e+00]\n",
            " [ 2.42954756e+00 -8.33938498e-02  4.42863528e-01  8.64936063e-01]\n",
            " [ 1.41464596e+00  1.90135516e+00 -1.45324238e-01  8.64936063e-01]\n",
            " [ 3.99744367e-01 -1.24491770e+00  1.02675795e+00 -1.64212499e+00]\n",
            " [-3.10686751e-01 -1.27911599e+00  8.46437616e-01 -1.64212499e+00]\n",
            " [-3.05092106e+00  3.40385718e-01  2.17844677e+00  8.64936063e-01]\n",
            " [-1.32558835e+00 -6.03707093e-01  1.15496249e-01 -3.88594463e-01]\n",
            " [ 3.99744367e-01  4.65888410e-01 -5.61778350e-01  8.64936063e-01]\n",
            " [-1.63005883e+00 -1.71132829e-01 -1.21007290e+00  8.64936063e-01]\n",
            " [-3.10686751e-01  3.27936469e-01  1.16199821e+00  8.64936063e-01]\n",
            " [ 5.01234526e-01 -2.17602102e-01  1.67075916e+00  8.64936063e-01]\n",
            " [-6.21627228e-03 -2.96070997e-01  7.73450813e-01 -3.88594463e-01]\n",
            " [ 1.21166564e+00 -5.76699057e-01 -5.20991607e-01 -3.88594463e-01]\n",
            " [-1.12260803e+00 -1.00606444e+00 -1.22617293e+00 -1.64212499e+00]\n",
            " [ 1.41464596e+00 -8.39886283e-01 -1.15211279e+00 -1.64212499e+00]\n",
            " [ 1.71911644e+00 -1.12399062e+00 -2.89151174e-01 -1.64212499e+00]\n",
            " [ 2.32805740e+00 -2.55009273e-01 -1.20792622e+00 -3.88594463e-01]\n",
            " [-2.23899979e+00  7.58222923e-01 -5.19918272e-01  8.64936063e-01]\n",
            " [ 9.07195165e-01  5.08821977e-01  1.86073951e+00  8.64936063e-01]\n",
            " [-1.63005883e+00 -3.70112831e-01  1.50117217e+00 -3.88594463e-01]\n",
            " [ 2.32805740e+00 -1.03238911e+00 -4.05071391e-01 -1.64212499e+00]\n",
            " [ 5.01234526e-01  1.09533314e+00  1.07183804e+00  8.64936063e-01]\n",
            " [ 9.07195165e-01  6.54944667e-01 -3.46037947e-01  8.64936063e-01]\n",
            " [ 8.05705006e-01 -5.17507706e-02 -1.13386609e+00  8.64936063e-01]\n",
            " [-1.02111787e+00  4.85022816e-01  2.13014668e+00  8.64936063e-01]\n",
            " [-1.73154899e+00 -3.09084770e-01 -1.59540028e+00 -3.88594463e-01]\n",
            " [ 3.99744367e-01 -2.12640230e-01 -4.07218061e-01  8.64936063e-01]\n",
            " [-8.18137550e-01 -3.21682578e-01 -1.24549296e+00 -3.88594463e-01]\n",
            " [-1.42707851e+00  4.65804674e+00 -1.08234599e+00  8.64936063e-01]\n",
            " [-1.02111787e+00 -6.02964298e-01  7.10124028e-01 -3.88594463e-01]\n",
            " [-7.16647390e-01 -1.56749884e+00 -2.69831138e-01 -2.89565552e+00]\n",
            " [ 5.01234526e-01 -4.43352446e-01 -7.61418723e-01 -3.88594463e-01]\n",
            " [-1.22409819e+00  1.65917961e-01 -1.86266078e+00  8.64936063e-01]\n",
            " [-6.15157231e-01 -3.27054994e-02  7.60570789e-01  8.64936063e-01]\n",
            " [-1.22409819e+00  2.36928648e+00  6.07083835e-01  8.64936063e-01]\n",
            " [ 1.21166564e+00 -5.51919183e-03 -2.47291096e-01  8.64936063e-01]\n",
            " [-2.09196592e-01 -1.39603197e+00 -1.19182619e+00 -1.64212499e+00]\n",
            " [-2.34048995e+00 -1.23365692e+00  2.74827514e-02 -1.64212499e+00]\n",
            " [-5.13667071e-01 -4.78709502e-01 -2.94517851e-01 -3.88594463e-01]\n",
            " [ 5.01234526e-01 -1.17922488e+00 -1.65717610e-01 -1.64212499e+00]\n",
            " [-6.15157231e-01  4.58388606e+00 -7.14191969e-01  8.64936063e-01]\n",
            " [ 1.21166564e+00 -9.55197824e-01 -7.47465364e-01 -1.64212499e+00]\n",
            " [ 9.07195165e-01 -1.11674094e+00 -1.39575991e+00 -1.64212499e+00]\n",
            " [ 7.04214846e-01 -1.32053426e+00 -1.01150586e+00 -1.64212499e+00]\n",
            " [-1.07706432e-01 -8.23871617e-01 -4.65178170e-01 -1.64212499e+00]\n",
            " [-1.22409819e+00 -4.66319677e-01 -8.22598838e-01 -3.88594463e-01]\n",
            " [-1.07706432e-01  1.96490872e+00  2.72048112e+00  8.64936063e-01]\n",
            " [ 1.00868533e+00 -5.22920678e-01  1.13838483e+00 -3.88594463e-01]\n",
            " [ 9.52738874e-02  4.02691387e-01 -5.12404925e-01  8.64936063e-01]\n",
            " [-2.09196592e-01 -2.53909936e-01  6.16743853e-01 -3.88594463e-01]\n",
            " [-1.12260803e+00 -1.11233817e-01  6.18890524e-01  8.64936063e-01]\n",
            " [-2.03601947e+00 -1.95431669e-02  3.83830084e-01  8.64936063e-01]\n",
            " [-7.16647390e-01 -9.35255776e-02  8.66830987e-01  8.64936063e-01]\n",
            " [ 8.05705006e-01 -1.51187832e+00  9.79531198e-01 -2.89565552e+00]\n",
            " [-1.07706432e-01  5.33512493e-01 -4.11511403e-01  8.64936063e-01]\n",
            " [ 3.99744367e-01 -7.38687853e-01 -1.61257365e+00 -3.88594463e-01]\n",
            " [ 1.51613612e+00  6.66710544e-01 -9.62132432e-01  8.64936063e-01]\n",
            " [-1.07706432e-01 -6.50354637e-01 -1.15962613e+00 -3.88594463e-01]\n",
            " [ 9.52738874e-02  2.15634193e+00 -5.29578290e-01  8.64936063e-01]\n",
            " [ 1.96764047e-01  1.17844250e-01  7.76670819e-01  8.64936063e-01]\n",
            " [ 5.01234526e-01 -1.43084879e-01  2.30724701e+00  8.64936063e-01]\n",
            " [ 9.07195165e-01 -9.01384310e-02  3.54850030e-01  8.64936063e-01]\n",
            " [ 5.01234526e-01 -5.54053234e-02  3.40896671e-01  8.64936063e-01]\n",
            " [ 3.99744367e-01  5.51904104e-01  1.47433879e+00  8.64936063e-01]\n",
            " [-4.12176911e-01 -1.54078249e-01 -2.22544813e+00  8.64936063e-01]\n",
            " [-1.42707851e+00 -8.13977583e-01 -8.76265605e-01 -3.88594463e-01]\n",
            " [ 1.21166564e+00 -2.86176963e-01  6.13523847e-01 -3.88594463e-01]\n",
            " [-5.13667071e-01  1.63148278e+00  3.33383323e-01  8.64936063e-01]\n",
            " [ 1.11017548e+00 -5.36528687e-01  5.97423817e-01 -3.88594463e-01]\n",
            " [-5.13667071e-01 -1.11362120e+00  6.25330536e-01 -1.64212499e+00]\n",
            " [ 1.11017548e+00 -6.69548468e-01  2.95816586e-01 -3.88594463e-01]\n",
            " [-1.07706432e-01  3.25826930e-01  1.82102610e+00  8.64936063e-01]\n",
            " [-1.22409819e+00  1.67260392e+00  3.33383323e-01  8.64936063e-01]\n",
            " [-5.13667071e-01 -1.17488696e+00  9.16204413e-01 -1.64212499e+00]\n",
            " [-3.10686751e-01  1.99819138e-01 -2.09235455e+00  8.64936063e-01]\n",
            " [-8.18137550e-01  6.76634289e-01  2.24976454e-01  8.64936063e-01]\n",
            " [-8.18137550e-01 -7.64626264e-01 -4.97973931e-02 -3.88594463e-01]\n",
            " [-9.19627710e-01 -6.98606619e-01  7.14895003e-02 -3.88594463e-01]\n",
            " [-1.12260803e+00  2.04519004e+00 -7.54978711e-01  8.64936063e-01]\n",
            " [-8.18137550e-01  1.97650175e-01  1.22639833e+00  8.64936063e-01]\n",
            " [ 2.98254207e-01 -6.58228267e-01  3.25869976e-01 -3.88594463e-01]\n",
            " [ 1.31315580e+00  1.22989793e+00 -1.43332665e+00  8.64936063e-01]\n",
            " [-4.12176911e-01 -7.09659413e-01  5.02970307e-01 -3.88594463e-01]\n",
            " [-1.07706432e-01 -5.00012871e-01 -7.48538699e-01 -3.88594463e-01]\n",
            " [-7.16647390e-01 -7.31729867e-02  8.67904323e-01  8.64936063e-01]\n",
            " [-6.15157231e-01 -3.54092742e-02  3.21958205e+00  8.64936063e-01]\n",
            " [-7.16647390e-01 -8.37717321e-01  1.49795217e+00 -1.64212499e+00]\n",
            " [ 3.99744367e-01  9.70632664e-01 -1.93624329e-01  8.64936063e-01]\n",
            " [ 9.52738874e-02  3.86854991e-01 -1.29701306e+00  8.64936063e-01]\n",
            " [ 1.61762628e+00  1.16857275e+00 -1.57822692e+00  8.64936063e-01]\n",
            " [ 2.98254207e-01  9.08564690e-01  4.12810138e-01  8.64936063e-01]\n",
            " [-1.02111787e+00 -4.73123682e-01  1.35293920e-02 -3.88594463e-01]\n",
            " [-2.03601947e+00 -2.15284581e-01  7.73450813e-01  8.64936063e-01]\n",
            " [-3.10686751e-01 -8.47605932e-02 -1.38717323e+00  8.64936063e-01]\n",
            " [ 2.42954756e+00 -1.13043809e+00  5.40537044e-01 -1.64212499e+00]\n",
            " [-3.10686751e-01 -8.08124356e-01  4.25690163e-01 -3.88594463e-01]\n",
            " [-1.07706432e-01  3.93451013e-01  8.97957712e-01  8.64936063e-01]\n",
            " [ 9.52738874e-02  1.80410840e+00 -1.10166603e+00  8.64936063e-01]\n",
            " [ 5.01234526e-01 -9.71801304e-02 -8.76265605e-01  8.64936063e-01]\n",
            " [ 1.92209676e+00 -2.86563217e-01  1.91118627e+00 -3.88594463e-01]\n",
            " [-3.10686751e-01 -2.06549309e-01 -1.61794032e+00  8.64936063e-01]\n",
            " [ 1.61762628e+00  1.47935830e+00  8.31410921e-01  8.64936063e-01]\n",
            " [ 3.99744367e-01  7.53884999e-01 -1.23583294e+00  8.64936063e-01]\n",
            " [ 7.04214846e-01 -5.10827970e-01 -2.69342234e+00 -3.88594463e-01]\n",
            " [ 7.04214846e-01 -5.89534559e-01  1.16307154e+00 -3.88594463e-01]\n",
            " [-6.21627228e-03  1.62821448e+00  2.10427393e-02  8.64936063e-01]\n",
            " [ 1.11017548e+00 -1.39668021e-01 -1.22831960e+00  8.64936063e-01]\n",
            " [ 2.73401804e+00 -1.40646082e+00 -2.49437766e-01 -1.64212499e+00]\n",
            " [-5.13667071e-01 -9.08817686e-01 -7.62492059e-01 -1.64212499e+00]\n",
            " [-1.52856867e+00  1.74029285e-01  1.03963798e+00  8.64936063e-01]\n",
            " [ 1.00868533e+00 -3.23168169e-01  8.56097634e-01 -3.88594463e-01]\n",
            " [-1.07706432e-01 -2.51562703e-01  1.41315868e+00 -3.88594463e-01]\n",
            " [-2.09196592e-01 -1.61268508e-01  1.17273156e+00  8.64936063e-01]\n",
            " [-5.13667071e-01 -3.92485825e-01  9.66651174e-01 -3.88594463e-01]\n",
            " [ 1.96764047e-01 -6.84226102e-01 -1.49021342e+00 -3.88594463e-01]\n",
            " [ 5.01234526e-01  2.23529163e-01  1.34124521e+00  8.64936063e-01]\n",
            " [ 3.99744367e-01 -3.98457899e-01 -2.09128121e+00 -3.88594463e-01]\n",
            " [ 6.02724686e-01 -9.27120162e-01 -1.76391393e+00 -1.64212499e+00]\n",
            " [-5.13667071e-01 -1.48046752e-01  1.44321206e+00  8.64936063e-01]\n",
            " [-6.21627228e-03  1.14768535e+00  9.53771150e-01  8.64936063e-01]\n",
            " [ 1.41464596e+00  3.77852312e-01  6.89730656e-01  8.64936063e-01]\n",
            " [-4.12176911e-01  7.51745748e-01 -2.47291096e-01  8.64936063e-01]\n",
            " [-1.07706432e-01  4.04844951e+00  7.93844184e-01  8.64936063e-01]\n",
            " [ 8.05705006e-01 -1.36399722e-01  6.11377176e-01  8.64936063e-01]\n",
            " [ 2.98254207e-01  1.38995546e+00 -1.62497604e-01  8.64936063e-01]\n",
            " [ 9.07195165e-01 -9.65864364e-01  1.40027865e+00 -1.64212499e+00]\n",
            " [-3.10686751e-01 -8.54088529e-01  1.92513963e+00 -1.64212499e+00]]\n"
          ]
        }
      ]
    },
    {
      "cell_type": "code",
      "source": [
        "# Decision Tree for Classification\n",
        "# Customer satisfaction nends to be classified to two categories: low and high (0, 1)\n",
        "from sklearn.tree import DecisionTreeClassifier\n",
        "from sklearn.metrics import classification_report, accuracy_score\n",
        "from sklearn.tree import export_text\n",
        "\n",
        "# Return True if customer_satisfaction >= 3 and convert Boolean to integer\n",
        "# customer_satisfaction >= 3 represents high satisfaction; customer_satisfaction < 3 represents low satisfaction\n",
        "# Assign to new column to store the 0 or 1 which represent the customer_satisfaction categories\n",
        "df['satisfaction_segment'] = (df['customer_satisfaction'] >= 3).astype(int)\n",
        "\n",
        "# Features (X) and target (y)\n",
        "X = df[['age', 'income', 'purchase_history', 'income_bracket_encoded']]  # Features\n",
        "y = df['satisfaction_segment']  # Target variable for classification\n",
        "\n",
        "# Train-test split\n",
        "X_train, X_test, y_train, y_test = train_test_split(X, y, test_size=0.2, random_state=42)\n",
        "\n",
        "# Train a Decision Tree Classifier\n",
        "dt_clf = DecisionTreeClassifier(max_depth=5, random_state=42)\n",
        "dt_clf.fit(X_train, y_train)\n",
        "\n",
        "# Predict on test data\n",
        "y_pred = dt_clf.predict(X_test)\n",
        "\n",
        "# Evaluate the model\n",
        "print(\"Decision Tree Results:\")\n",
        "print(f\"Accuracy: {accuracy_score(y_test, y_pred):.4f}\")\n",
        "print(\"\\nClassification Report:\")\n",
        "print(classification_report(y_test, y_pred))\n",
        "\n",
        "# Display the decision tree structure\n",
        "tree_rules = export_text(dt_clf, feature_names=list(X.columns))\n",
        "print(\"\\nDecision Tree Rules:\")\n",
        "print(tree_rules)\n"
      ],
      "metadata": {
        "colab": {
          "base_uri": "https://localhost:8080/"
        },
        "id": "iEclPullgRhD",
        "outputId": "675e569d-7c46-4f04-cfd7-35655d4b38ad"
      },
      "execution_count": null,
      "outputs": [
        {
          "output_type": "stream",
          "name": "stdout",
          "text": [
            "Decision Tree Results:\n",
            "Accuracy: 1.0000\n",
            "\n",
            "Classification Report:\n",
            "              precision    recall  f1-score   support\n",
            "\n",
            "           1       1.00      1.00      1.00       200\n",
            "\n",
            "    accuracy                           1.00       200\n",
            "   macro avg       1.00      1.00      1.00       200\n",
            "weighted avg       1.00      1.00      1.00       200\n",
            "\n",
            "\n",
            "Decision Tree Rules:\n",
            "|--- class: 0\n",
            "\n"
          ]
        }
      ]
    },
    {
      "cell_type": "code",
      "source": [
        "#Additional exploration: Keras model\n",
        "from keras.models import Sequential\n",
        "from keras.layers import Dense\n",
        "\n",
        "# Define a simple neural network\n",
        "model = Sequential()\n",
        "model.add(Dense(32, input_dim=X_train_scaled.shape[1], activation='relu'))\n",
        "model.add(Dense(16, activation='relu'))\n",
        "model.add(Dense(1, activation='linear'))  # For regression tasks\n",
        "\n",
        "# Compile the model\n",
        "model.compile(loss='mean_squared_error', optimizer='adam', metrics=['mae'])\n",
        "\n",
        "# Train the model\n",
        "model.fit(X_train_scaled, y_train, epochs=50, batch_size=16, validation_split=0.2, verbose=1)\n",
        "\n",
        "# Evaluate the model on test data\n",
        "nn_mse = model.evaluate(X_test_scaled, y_test)[0]\n",
        "print(f\"Neural Network MSE: {nn_mse:.4f}\")\n"
      ],
      "metadata": {
        "colab": {
          "base_uri": "https://localhost:8080/"
        },
        "id": "rIbDxss4ohLo",
        "outputId": "15a545ff-9e57-449b-aed2-35ac6f4e15a8"
      },
      "execution_count": null,
      "outputs": [
        {
          "output_type": "stream",
          "name": "stdout",
          "text": [
            "Epoch 1/50\n"
          ]
        },
        {
          "output_type": "stream",
          "name": "stderr",
          "text": [
            "/usr/local/lib/python3.10/dist-packages/keras/src/layers/core/dense.py:87: UserWarning: Do not pass an `input_shape`/`input_dim` argument to a layer. When using Sequential models, prefer using an `Input(shape)` object as the first layer in the model instead.\n",
            "  super().__init__(activity_regularizer=activity_regularizer, **kwargs)\n"
          ]
        },
        {
          "output_type": "stream",
          "name": "stdout",
          "text": [
            "\u001b[1m40/40\u001b[0m \u001b[32m━━━━━━━━━━━━━━━━━━━━\u001b[0m\u001b[37m\u001b[0m \u001b[1m1s\u001b[0m 6ms/step - loss: 0.8486 - mae: 0.8370 - val_loss: 0.1464 - val_mae: 0.3219\n",
            "Epoch 2/50\n",
            "\u001b[1m40/40\u001b[0m \u001b[32m━━━━━━━━━━━━━━━━━━━━\u001b[0m\u001b[37m\u001b[0m \u001b[1m0s\u001b[0m 2ms/step - loss: 0.1266 - mae: 0.2870 - val_loss: 0.0629 - val_mae: 0.2116\n",
            "Epoch 3/50\n",
            "\u001b[1m40/40\u001b[0m \u001b[32m━━━━━━━━━━━━━━━━━━━━\u001b[0m\u001b[37m\u001b[0m \u001b[1m0s\u001b[0m 3ms/step - loss: 0.0580 - mae: 0.2010 - val_loss: 0.0419 - val_mae: 0.1700\n",
            "Epoch 4/50\n",
            "\u001b[1m40/40\u001b[0m \u001b[32m━━━━━━━━━━━━━━━━━━━━\u001b[0m\u001b[37m\u001b[0m \u001b[1m0s\u001b[0m 2ms/step - loss: 0.0366 - mae: 0.1491 - val_loss: 0.0323 - val_mae: 0.1446\n",
            "Epoch 5/50\n",
            "\u001b[1m40/40\u001b[0m \u001b[32m━━━━━━━━━━━━━━━━━━━━\u001b[0m\u001b[37m\u001b[0m \u001b[1m0s\u001b[0m 3ms/step - loss: 0.0257 - mae: 0.1246 - val_loss: 0.0263 - val_mae: 0.1274\n",
            "Epoch 6/50\n",
            "\u001b[1m40/40\u001b[0m \u001b[32m━━━━━━━━━━━━━━━━━━━━\u001b[0m\u001b[37m\u001b[0m \u001b[1m0s\u001b[0m 2ms/step - loss: 0.0213 - mae: 0.1092 - val_loss: 0.0220 - val_mae: 0.1126\n",
            "Epoch 7/50\n",
            "\u001b[1m40/40\u001b[0m \u001b[32m━━━━━━━━━━━━━━━━━━━━\u001b[0m\u001b[37m\u001b[0m \u001b[1m0s\u001b[0m 2ms/step - loss: 0.0165 - mae: 0.0914 - val_loss: 0.0181 - val_mae: 0.1001\n",
            "Epoch 8/50\n",
            "\u001b[1m40/40\u001b[0m \u001b[32m━━━━━━━━━━━━━━━━━━━━\u001b[0m\u001b[37m\u001b[0m \u001b[1m0s\u001b[0m 3ms/step - loss: 0.0130 - mae: 0.0823 - val_loss: 0.0156 - val_mae: 0.0914\n",
            "Epoch 9/50\n",
            "\u001b[1m40/40\u001b[0m \u001b[32m━━━━━━━━━━━━━━━━━━━━\u001b[0m\u001b[37m\u001b[0m \u001b[1m0s\u001b[0m 4ms/step - loss: 0.0105 - mae: 0.0737 - val_loss: 0.0134 - val_mae: 0.0853\n",
            "Epoch 10/50\n",
            "\u001b[1m40/40\u001b[0m \u001b[32m━━━━━━━━━━━━━━━━━━━━\u001b[0m\u001b[37m\u001b[0m \u001b[1m0s\u001b[0m 2ms/step - loss: 0.0084 - mae: 0.0663 - val_loss: 0.0114 - val_mae: 0.0780\n",
            "Epoch 11/50\n",
            "\u001b[1m40/40\u001b[0m \u001b[32m━━━━━━━━━━━━━━━━━━━━\u001b[0m\u001b[37m\u001b[0m \u001b[1m0s\u001b[0m 3ms/step - loss: 0.0074 - mae: 0.0630 - val_loss: 0.0099 - val_mae: 0.0717\n",
            "Epoch 12/50\n",
            "\u001b[1m40/40\u001b[0m \u001b[32m━━━━━━━━━━━━━━━━━━━━\u001b[0m\u001b[37m\u001b[0m \u001b[1m0s\u001b[0m 3ms/step - loss: 0.0067 - mae: 0.0583 - val_loss: 0.0085 - val_mae: 0.0664\n",
            "Epoch 13/50\n",
            "\u001b[1m40/40\u001b[0m \u001b[32m━━━━━━━━━━━━━━━━━━━━\u001b[0m\u001b[37m\u001b[0m \u001b[1m0s\u001b[0m 2ms/step - loss: 0.0069 - mae: 0.0605 - val_loss: 0.0075 - val_mae: 0.0627\n",
            "Epoch 14/50\n",
            "\u001b[1m40/40\u001b[0m \u001b[32m━━━━━━━━━━━━━━━━━━━━\u001b[0m\u001b[37m\u001b[0m \u001b[1m0s\u001b[0m 2ms/step - loss: 0.0056 - mae: 0.0545 - val_loss: 0.0065 - val_mae: 0.0586\n",
            "Epoch 15/50\n",
            "\u001b[1m40/40\u001b[0m \u001b[32m━━━━━━━━━━━━━━━━━━━━\u001b[0m\u001b[37m\u001b[0m \u001b[1m0s\u001b[0m 2ms/step - loss: 0.0042 - mae: 0.0481 - val_loss: 0.0059 - val_mae: 0.0565\n",
            "Epoch 16/50\n",
            "\u001b[1m40/40\u001b[0m \u001b[32m━━━━━━━━━━━━━━━━━━━━\u001b[0m\u001b[37m\u001b[0m \u001b[1m0s\u001b[0m 2ms/step - loss: 0.0043 - mae: 0.0486 - val_loss: 0.0053 - val_mae: 0.0530\n",
            "Epoch 17/50\n",
            "\u001b[1m40/40\u001b[0m \u001b[32m━━━━━━━━━━━━━━━━━━━━\u001b[0m\u001b[37m\u001b[0m \u001b[1m0s\u001b[0m 2ms/step - loss: 0.0038 - mae: 0.0458 - val_loss: 0.0048 - val_mae: 0.0504\n",
            "Epoch 18/50\n",
            "\u001b[1m40/40\u001b[0m \u001b[32m━━━━━━━━━━━━━━━━━━━━\u001b[0m\u001b[37m\u001b[0m \u001b[1m0s\u001b[0m 2ms/step - loss: 0.0033 - mae: 0.0430 - val_loss: 0.0044 - val_mae: 0.0491\n",
            "Epoch 19/50\n",
            "\u001b[1m40/40\u001b[0m \u001b[32m━━━━━━━━━━━━━━━━━━━━\u001b[0m\u001b[37m\u001b[0m \u001b[1m0s\u001b[0m 3ms/step - loss: 0.0034 - mae: 0.0436 - val_loss: 0.0041 - val_mae: 0.0474\n",
            "Epoch 20/50\n",
            "\u001b[1m40/40\u001b[0m \u001b[32m━━━━━━━━━━━━━━━━━━━━\u001b[0m\u001b[37m\u001b[0m \u001b[1m0s\u001b[0m 2ms/step - loss: 0.0029 - mae: 0.0393 - val_loss: 0.0037 - val_mae: 0.0442\n",
            "Epoch 21/50\n",
            "\u001b[1m40/40\u001b[0m \u001b[32m━━━━━━━━━━━━━━━━━━━━\u001b[0m\u001b[37m\u001b[0m \u001b[1m0s\u001b[0m 2ms/step - loss: 0.0029 - mae: 0.0398 - val_loss: 0.0034 - val_mae: 0.0423\n",
            "Epoch 22/50\n",
            "\u001b[1m40/40\u001b[0m \u001b[32m━━━━━━━━━━━━━━━━━━━━\u001b[0m\u001b[37m\u001b[0m \u001b[1m0s\u001b[0m 3ms/step - loss: 0.0022 - mae: 0.0350 - val_loss: 0.0031 - val_mae: 0.0405\n",
            "Epoch 23/50\n",
            "\u001b[1m40/40\u001b[0m \u001b[32m━━━━━━━━━━━━━━━━━━━━\u001b[0m\u001b[37m\u001b[0m \u001b[1m0s\u001b[0m 2ms/step - loss: 0.0026 - mae: 0.0373 - val_loss: 0.0030 - val_mae: 0.0398\n",
            "Epoch 24/50\n",
            "\u001b[1m40/40\u001b[0m \u001b[32m━━━━━━━━━━━━━━━━━━━━\u001b[0m\u001b[37m\u001b[0m \u001b[1m0s\u001b[0m 3ms/step - loss: 0.0021 - mae: 0.0324 - val_loss: 0.0027 - val_mae: 0.0376\n",
            "Epoch 25/50\n",
            "\u001b[1m40/40\u001b[0m \u001b[32m━━━━━━━━━━━━━━━━━━━━\u001b[0m\u001b[37m\u001b[0m \u001b[1m0s\u001b[0m 3ms/step - loss: 0.0022 - mae: 0.0346 - val_loss: 0.0025 - val_mae: 0.0362\n",
            "Epoch 26/50\n",
            "\u001b[1m40/40\u001b[0m \u001b[32m━━━━━━━━━━━━━━━━━━━━\u001b[0m\u001b[37m\u001b[0m \u001b[1m0s\u001b[0m 3ms/step - loss: 0.0020 - mae: 0.0327 - val_loss: 0.0023 - val_mae: 0.0345\n",
            "Epoch 27/50\n",
            "\u001b[1m40/40\u001b[0m \u001b[32m━━━━━━━━━━━━━━━━━━━━\u001b[0m\u001b[37m\u001b[0m \u001b[1m0s\u001b[0m 3ms/step - loss: 0.0018 - mae: 0.0314 - val_loss: 0.0022 - val_mae: 0.0341\n",
            "Epoch 28/50\n",
            "\u001b[1m40/40\u001b[0m \u001b[32m━━━━━━━━━━━━━━━━━━━━\u001b[0m\u001b[37m\u001b[0m \u001b[1m0s\u001b[0m 2ms/step - loss: 0.0016 - mae: 0.0290 - val_loss: 0.0021 - val_mae: 0.0334\n",
            "Epoch 29/50\n",
            "\u001b[1m40/40\u001b[0m \u001b[32m━━━━━━━━━━━━━━━━━━━━\u001b[0m\u001b[37m\u001b[0m \u001b[1m0s\u001b[0m 2ms/step - loss: 0.0018 - mae: 0.0327 - val_loss: 0.0020 - val_mae: 0.0313\n",
            "Epoch 30/50\n",
            "\u001b[1m40/40\u001b[0m \u001b[32m━━━━━━━━━━━━━━━━━━━━\u001b[0m\u001b[37m\u001b[0m \u001b[1m0s\u001b[0m 2ms/step - loss: 0.0015 - mae: 0.0294 - val_loss: 0.0018 - val_mae: 0.0302\n",
            "Epoch 31/50\n",
            "\u001b[1m40/40\u001b[0m \u001b[32m━━━━━━━━━━━━━━━━━━━━\u001b[0m\u001b[37m\u001b[0m \u001b[1m0s\u001b[0m 2ms/step - loss: 0.0013 - mae: 0.0262 - val_loss: 0.0017 - val_mae: 0.0302\n",
            "Epoch 32/50\n",
            "\u001b[1m40/40\u001b[0m \u001b[32m━━━━━━━━━━━━━━━━━━━━\u001b[0m\u001b[37m\u001b[0m \u001b[1m0s\u001b[0m 3ms/step - loss: 0.0012 - mae: 0.0254 - val_loss: 0.0017 - val_mae: 0.0291\n",
            "Epoch 33/50\n",
            "\u001b[1m40/40\u001b[0m \u001b[32m━━━━━━━━━━━━━━━━━━━━\u001b[0m\u001b[37m\u001b[0m \u001b[1m0s\u001b[0m 3ms/step - loss: 0.0012 - mae: 0.0261 - val_loss: 0.0016 - val_mae: 0.0284\n",
            "Epoch 34/50\n",
            "\u001b[1m40/40\u001b[0m \u001b[32m━━━━━━━━━━━━━━━━━━━━\u001b[0m\u001b[37m\u001b[0m \u001b[1m0s\u001b[0m 2ms/step - loss: 0.0012 - mae: 0.0251 - val_loss: 0.0015 - val_mae: 0.0269\n",
            "Epoch 35/50\n",
            "\u001b[1m40/40\u001b[0m \u001b[32m━━━━━━━━━━━━━━━━━━━━\u001b[0m\u001b[37m\u001b[0m \u001b[1m0s\u001b[0m 3ms/step - loss: 0.0011 - mae: 0.0243 - val_loss: 0.0014 - val_mae: 0.0255\n",
            "Epoch 36/50\n",
            "\u001b[1m40/40\u001b[0m \u001b[32m━━━━━━━━━━━━━━━━━━━━\u001b[0m\u001b[37m\u001b[0m \u001b[1m0s\u001b[0m 2ms/step - loss: 9.9380e-04 - mae: 0.0240 - val_loss: 0.0013 - val_mae: 0.0249\n",
            "Epoch 37/50\n",
            "\u001b[1m40/40\u001b[0m \u001b[32m━━━━━━━━━━━━━━━━━━━━\u001b[0m\u001b[37m\u001b[0m \u001b[1m0s\u001b[0m 2ms/step - loss: 7.9539e-04 - mae: 0.0208 - val_loss: 0.0012 - val_mae: 0.0239\n",
            "Epoch 38/50\n",
            "\u001b[1m40/40\u001b[0m \u001b[32m━━━━━━━━━━━━━━━━━━━━\u001b[0m\u001b[37m\u001b[0m \u001b[1m0s\u001b[0m 2ms/step - loss: 8.1754e-04 - mae: 0.0211 - val_loss: 0.0012 - val_mae: 0.0240\n",
            "Epoch 39/50\n",
            "\u001b[1m40/40\u001b[0m \u001b[32m━━━━━━━━━━━━━━━━━━━━\u001b[0m\u001b[37m\u001b[0m \u001b[1m0s\u001b[0m 2ms/step - loss: 8.7322e-04 - mae: 0.0211 - val_loss: 0.0011 - val_mae: 0.0236\n",
            "Epoch 40/50\n",
            "\u001b[1m40/40\u001b[0m \u001b[32m━━━━━━━━━━━━━━━━━━━━\u001b[0m\u001b[37m\u001b[0m \u001b[1m0s\u001b[0m 3ms/step - loss: 7.9232e-04 - mae: 0.0206 - val_loss: 0.0010 - val_mae: 0.0218\n",
            "Epoch 41/50\n",
            "\u001b[1m40/40\u001b[0m \u001b[32m━━━━━━━━━━━━━━━━━━━━\u001b[0m\u001b[37m\u001b[0m \u001b[1m0s\u001b[0m 3ms/step - loss: 6.5758e-04 - mae: 0.0188 - val_loss: 9.6273e-04 - val_mae: 0.0212\n",
            "Epoch 42/50\n",
            "\u001b[1m40/40\u001b[0m \u001b[32m━━━━━━━━━━━━━━━━━━━━\u001b[0m\u001b[37m\u001b[0m \u001b[1m0s\u001b[0m 2ms/step - loss: 6.6777e-04 - mae: 0.0182 - val_loss: 8.9328e-04 - val_mae: 0.0207\n",
            "Epoch 43/50\n",
            "\u001b[1m40/40\u001b[0m \u001b[32m━━━━━━━━━━━━━━━━━━━━\u001b[0m\u001b[37m\u001b[0m \u001b[1m0s\u001b[0m 2ms/step - loss: 5.5517e-04 - mae: 0.0175 - val_loss: 9.4481e-04 - val_mae: 0.0212\n",
            "Epoch 44/50\n",
            "\u001b[1m40/40\u001b[0m \u001b[32m━━━━━━━━━━━━━━━━━━━━\u001b[0m\u001b[37m\u001b[0m \u001b[1m0s\u001b[0m 2ms/step - loss: 5.2729e-04 - mae: 0.0168 - val_loss: 8.7132e-04 - val_mae: 0.0199\n",
            "Epoch 45/50\n",
            "\u001b[1m40/40\u001b[0m \u001b[32m━━━━━━━━━━━━━━━━━━━━\u001b[0m\u001b[37m\u001b[0m \u001b[1m0s\u001b[0m 3ms/step - loss: 6.8031e-04 - mae: 0.0184 - val_loss: 8.0789e-04 - val_mae: 0.0197\n",
            "Epoch 46/50\n",
            "\u001b[1m40/40\u001b[0m \u001b[32m━━━━━━━━━━━━━━━━━━━━\u001b[0m\u001b[37m\u001b[0m \u001b[1m0s\u001b[0m 2ms/step - loss: 5.9168e-04 - mae: 0.0175 - val_loss: 7.6705e-04 - val_mae: 0.0194\n",
            "Epoch 47/50\n",
            "\u001b[1m40/40\u001b[0m \u001b[32m━━━━━━━━━━━━━━━━━━━━\u001b[0m\u001b[37m\u001b[0m \u001b[1m0s\u001b[0m 2ms/step - loss: 5.0588e-04 - mae: 0.0163 - val_loss: 8.6938e-04 - val_mae: 0.0205\n",
            "Epoch 48/50\n",
            "\u001b[1m40/40\u001b[0m \u001b[32m━━━━━━━━━━━━━━━━━━━━\u001b[0m\u001b[37m\u001b[0m \u001b[1m0s\u001b[0m 3ms/step - loss: 5.2137e-04 - mae: 0.0164 - val_loss: 7.2974e-04 - val_mae: 0.0182\n",
            "Epoch 49/50\n",
            "\u001b[1m40/40\u001b[0m \u001b[32m━━━━━━━━━━━━━━━━━━━━\u001b[0m\u001b[37m\u001b[0m \u001b[1m0s\u001b[0m 2ms/step - loss: 4.5048e-04 - mae: 0.0156 - val_loss: 7.0865e-04 - val_mae: 0.0180\n",
            "Epoch 50/50\n",
            "\u001b[1m40/40\u001b[0m \u001b[32m━━━━━━━━━━━━━━━━━━━━\u001b[0m\u001b[37m\u001b[0m \u001b[1m0s\u001b[0m 2ms/step - loss: 3.8845e-04 - mae: 0.0143 - val_loss: 7.1429e-04 - val_mae: 0.0184\n",
            "\u001b[1m7/7\u001b[0m \u001b[32m━━━━━━━━━━━━━━━━━━━━\u001b[0m\u001b[37m\u001b[0m \u001b[1m0s\u001b[0m 2ms/step - loss: 7.4417e-04 - mae: 0.0198  \n",
            "Neural Network MSE: 0.0008\n"
          ]
        }
      ]
    },
    {
      "cell_type": "markdown",
      "source": [
        "Since 0.0008 is a very small number, it indicates that the differences between the predicted and actual values are minimal, meaning the Neural Network is performing well."
      ],
      "metadata": {
        "id": "Daf7iN33pjna"
      }
    },
    {
      "cell_type": "code",
      "source": [],
      "metadata": {
        "id": "ErPmwPvvpIsR"
      },
      "execution_count": null,
      "outputs": []
    }
  ]
}